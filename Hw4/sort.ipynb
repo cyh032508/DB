{
 "cells": [
  {
   "cell_type": "code",
   "execution_count": 2,
   "metadata": {},
   "outputs": [
    {
     "name": "stdout",
     "output_type": "stream",
     "text": [
      "[100, 200, 300, 350, 360, 375, 400, 500, 600, 800, 850, 900, 920, 930, 940, 950, 970]\n",
      "17\n"
     ]
    }
   ],
   "source": [
    "a = [200, 800, 300, 400, 900, 600, 100, 350, 375, 360, 500, 850, 950, 970, 920, 940, 930]\n",
    "a.sort()\n",
    "print(a)\n",
    "print(len(a))"
   ]
  }
 ],
 "metadata": {
  "kernelspec": {
   "display_name": "base",
   "language": "python",
   "name": "python3"
  },
  "language_info": {
   "codemirror_mode": {
    "name": "ipython",
    "version": 3
   },
   "file_extension": ".py",
   "mimetype": "text/x-python",
   "name": "python",
   "nbconvert_exporter": "python",
   "pygments_lexer": "ipython3",
   "version": "3.12.3"
  }
 },
 "nbformat": 4,
 "nbformat_minor": 2
}
