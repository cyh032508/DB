{
 "cells": [
  {
   "cell_type": "code",
   "execution_count": 2,
   "metadata": {},
   "outputs": [
    {
     "name": "stdout",
     "output_type": "stream",
     "text": [
      "Requirement already satisfied: psycopg2 in /opt/anaconda3/lib/python3.12/site-packages (2.9.9)\n",
      "Note: you may need to restart the kernel to use updated packages.\n"
     ]
    }
   ],
   "source": [
    "pip install psycopg2\n"
   ]
  },
  {
   "cell_type": "code",
   "execution_count": null,
   "metadata": {},
   "outputs": [
    {
     "name": "stdout",
     "output_type": "stream",
     "text": [
      "       arrive_station_id citizen_id\n",
      "0                    990  AAAAW1776\n",
      "1                   1010  AAABC5393\n",
      "2                   1043  ABBAI4412\n",
      "3                   1000  AAAAG9104\n",
      "4                   1070  AAAAI6243\n",
      "...                  ...        ...\n",
      "93665               1020  AAAAZ2053\n",
      "93666               1060  AAAAZ8454\n",
      "93667               1050  AAABC7075\n",
      "93668               1060  AAAAG3584\n",
      "93669               1030  AAAAJ5984\n",
      "\n",
      "[93670 rows x 2 columns]\n"
     ]
    }
   ],
   "source": [
    "import psycopg2\n",
    "import pandas as pd\n",
    "\n",
    "\n",
    "# 数据库连接信息\n",
    "host = \"localhost\"\n",
    "dbname = \"THSR_database\"\n",
    "user = \"postgres\"\n",
    "password = \"1234\"\n",
    "\n",
    "# 连接到 PostgreSQL 数据库\n",
    "conn = psycopg2.connect(\n",
    "    host=host,\n",
    "    dbname=dbname,\n",
    "    user=user,\n",
    "    password=password\n",
    ")\n",
    "\n",
    "# 创建一个游标（cursor）\n",
    "cur = conn.cursor()\n",
    "\n",
    "# 执行 SQL 查询\n",
    "cur.execute(\"SELECT arrive_station_id, citizen_id FROM reserved_ticket WHERE travel_date = '2023-08-01'\")\n",
    "\n",
    "# 获取查询结果\n",
    "rows = cur.fetchall()\n",
    "\n",
    "# 打印每一行\n",
    "# for row in rows:\n",
    "#     print(row)\n",
    "\n",
    "# 获取查询结果并转换为 pandas DataFrame\n",
    "df = pd.DataFrame(rows, columns=[\"arrive_station_id\", \"citizen_id\"])\n",
    "\n",
    "# 显示 DataFrame\n",
    "print(df)\n",
    "\n",
    "# 关闭游标和连接\n",
    "cur.close()\n",
    "conn.close()\n"
   ]
  },
  {
   "cell_type": "markdown",
   "metadata": {},
   "source": [
    "# Hash function"
   ]
  },
  {
   "cell_type": "code",
   "execution_count": 20,
   "metadata": {},
   "outputs": [
    {
     "name": "stdout",
     "output_type": "stream",
     "text": [
      "Reserved Ticket records: 21290\n",
      "Member records: 10248\n",
      "Hash join execution time: 0.568619 seconds\n",
      "     arrive_station_id                   name\n",
      "0                  990          Michael Arvin\n",
      "1                 1043         Brenda Aguilar\n",
      "2                 1047  Christopher Ardizzone\n",
      "3                  990                Van Aki\n",
      "4                 1010         Andrew Aguilar\n",
      "..                 ...                    ...\n",
      "522               1070          Elaine Arthur\n",
      "523               1020            Julie Arias\n",
      "524                990         Tanya Anderson\n",
      "525               1047       Jessica Anderson\n",
      "526               1040       Charles Anderson\n",
      "\n",
      "[527 rows x 2 columns]\n"
     ]
    }
   ],
   "source": [
    "import psycopg2\n",
    "import pandas as pd\n",
    "import time\n",
    "\n",
    "host = \"localhost\"\n",
    "dbname = \"THSR_database\"\n",
    "user = \"postgres\"\n",
    "password = \"1234\"\n",
    "\n",
    "conn = psycopg2.connect(\n",
    "    host=host,\n",
    "    dbname=dbname,\n",
    "    user=user,\n",
    "    password=password\n",
    ")\n",
    "\n",
    "cur = conn.cursor()\n",
    "\n",
    "# Step 1\n",
    "cur.execute(\"\"\"\n",
    "    SELECT arrive_station_id, citizen_id\n",
    "    FROM reserved_ticket\n",
    "    WHERE travel_date = '2023-08-01' AND depart_station_id <= 1000\n",
    "\"\"\")\n",
    "reserved_ticket_rows = cur.fetchall()\n",
    "\n",
    "reserved_ticket_df = pd.DataFrame(reserved_ticket_rows, columns=[\"arrive_station_id\", \"citizen_id\"])\n",
    "print(f\"Reserved Ticket records: {len(reserved_ticket_df)}\")\n",
    "\n",
    "# Step 2：Hash function\n",
    "def hash_function(citizen_id):\n",
    "    return sum(ord(c) for c in citizen_id) % 100\n",
    "\n",
    "buckets = {i: [] for i in range(100)}\n",
    "\n",
    "# Put reserved_ticket data into buckets based on the hash function\n",
    "for index, row in reserved_ticket_df.iterrows():\n",
    "    citizen_id = row[\"citizen_id\"]\n",
    "    bucket_index = hash_function(citizen_id)\n",
    "    buckets[bucket_index].append({\"arrive_station_id\": row[\"arrive_station_id\"], \"citizen_id\": citizen_id, \"name\": None})\n",
    "\n",
    "\n",
    "# Step 3\n",
    "cur.execute(\"\"\"\n",
    "    SELECT citizen_id, name\n",
    "    FROM member\n",
    "    WHERE name LIKE '% A%'\n",
    "\"\"\")\n",
    "member_rows = cur.fetchall()\n",
    "\n",
    "member_df = pd.DataFrame(member_rows, columns=[\"citizen_id\", \"name\"])\n",
    "print(f\"Member records: {len(member_df)}\")\n",
    "\n",
    "# Step 4: Hash and join member data\n",
    "start_hash_join = time.time()\n",
    "for index, row in member_df.iterrows():\n",
    "    citizen_id = row[\"citizen_id\"]\n",
    "    name = row[\"name\"]\n",
    "    bucket_index = hash_function(citizen_id)\n",
    "\n",
    "    # Search for matching reserved_ticket data\n",
    "    for reserved_ticket in buckets[bucket_index]:\n",
    "        if reserved_ticket[\"citizen_id\"] == citizen_id:\n",
    "            reserved_ticket[\"name\"] = name  # Fill the name column\n",
    "end_hash_join = time.time()\n",
    "\n",
    "# Step 5\n",
    "result = []\n",
    "for bucket in buckets.values():\n",
    "    for reserved_ticket in bucket:\n",
    "        if reserved_ticket[\"name\"] is not None:  # Only output records with a filled name\n",
    "            result.append((reserved_ticket[\"arrive_station_id\"], reserved_ticket[\"name\"]))\n",
    "\n",
    "result_df = pd.DataFrame(result, columns=[\"arrive_station_id\", \"name\"])\n",
    "\n",
    "print(f\"Hash join execution time: {end_hash_join - start_hash_join:.6f} seconds\")\n",
    "print(result_df)\n",
    "\n",
    "cur.close()\n",
    "conn.close()\n"
   ]
  },
  {
   "cell_type": "code",
   "execution_count": 18,
   "metadata": {},
   "outputs": [
    {
     "name": "stdout",
     "output_type": "stream",
     "text": [
      "Bucket 60 contains 291 records.\n",
      "Bucket 70 contains 27 records.\n",
      "Bucket 80 contains 0 records.\n"
     ]
    }
   ],
   "source": [
    "count_60 = len(buckets[60])\n",
    "count_70 = len(buckets[70])\n",
    "count_80 = len(buckets[80])\n",
    "\n",
    "print(f\"Bucket 60 contains {count_60} records.\")\n",
    "print(f\"Bucket 70 contains {count_70} records.\")\n",
    "print(f\"Bucket 80 contains {count_80} records.\")"
   ]
  },
  {
   "cell_type": "markdown",
   "metadata": {},
   "source": [
    "# Brute Force"
   ]
  },
  {
   "cell_type": "code",
   "execution_count": null,
   "metadata": {},
   "outputs": [
    {
     "name": "stdout",
     "output_type": "stream",
     "text": [
      "Brute-force join execution time: 15.090085 seconds\n",
      "     arrive_station_id              name\n",
      "0                 1035      James Acosta\n",
      "1                 1010      Sherri Ahner\n",
      "2                  990       Alice Adams\n",
      "3                 1040      Debbie Allen\n",
      "4                  990     Michael Arvin\n",
      "..                 ...               ...\n",
      "522                990      Lisa Atchley\n",
      "523               1020      Margit Adams\n",
      "524                990       Andy Andrew\n",
      "525               1010  Connie Alejandro\n",
      "526                990      Cathy Arroyo\n",
      "\n",
      "[527 rows x 2 columns]\n"
     ]
    }
   ],
   "source": [
    "import psycopg2\n",
    "import pandas as pd\n",
    "import time\n",
    "\n",
    "host = \"localhost\"\n",
    "dbname = \"THSR_database\"\n",
    "user = \"postgres\"\n",
    "password = \"1234\"\n",
    "\n",
    "conn = psycopg2.connect(\n",
    "    host=host,\n",
    "    dbname=dbname,\n",
    "    user=user,\n",
    "    password=password\n",
    ")\n",
    "\n",
    "cur = conn.cursor()\n",
    "\n",
    "# Step 1\n",
    "cur.execute(\"\"\"\n",
    "    SELECT arrive_station_id, citizen_id\n",
    "    FROM reserved_ticket\n",
    "    WHERE travel_date = '2023-08-01' AND depart_station_id <= 1000\n",
    "\"\"\")\n",
    "reserved_ticket_rows = cur.fetchall()\n",
    "\n",
    "reserved_ticket_df = pd.DataFrame(reserved_ticket_rows, columns=[\"arrive_station_id\", \"citizen_id\"])\n",
    "\n",
    "# Step 3\n",
    "cur.execute(\"\"\"\n",
    "    SELECT citizen_id, name\n",
    "    FROM member\n",
    "    WHERE name LIKE '% A%'\n",
    "\"\"\")\n",
    "member_rows = cur.fetchall()\n",
    "\n",
    "member_df = pd.DataFrame(member_rows, columns=[\"citizen_id\", \"name\"])\n",
    "\n",
    "# Step 4: Brute-force join using nested loops\n",
    "result = []\n",
    "\n",
    "reserved_ticket_array = reserved_ticket_df.to_numpy()\n",
    "member_array = member_df.to_numpy()\n",
    "\n",
    "# Nested loops to perform the join\n",
    "start_time = time.time()\n",
    "for member in member_array:\n",
    "    matches = reserved_ticket_array[:, 1] == member[0]  # Compare citizen_id\n",
    "    for idx, match in enumerate(matches):\n",
    "        if match:\n",
    "            result.append((reserved_ticket_array[idx, 0], member[1]))  # arrive_station_id, name\n",
    "\n",
    "brute_force_time = time.time() - start_time\n",
    "\n",
    "# Step 5\n",
    "result_df = pd.DataFrame(result, columns=[\"arrive_station_id\", \"name\"])\n",
    "\n",
    "print(f\"Brute-force join execution time: {brute_force_time:.6f} seconds\")\n",
    "print(result_df)\n",
    "\n",
    "cur.close()\n",
    "conn.close()"
   ]
  },
  {
   "cell_type": "code",
   "execution_count": 34,
   "metadata": {},
   "outputs": [
    {
     "name": "stdout",
     "output_type": "stream",
     "text": [
      "20000005000\n",
      "200005000\n",
      "2085000\n",
      "20000005.0\n",
      "200005.0\n",
      "2085.0\n"
     ]
    }
   ],
   "source": [
    "import math\n",
    "M = 5000\n",
    "N = 40000\n",
    "m = 500000\n",
    "n = 4000000\n",
    "B = 100\n",
    "\n",
    "stupid = M+m*N\n",
    "Single_block = M+M*N\n",
    "ceil = M/(B-2)\n",
    "ceil = math.ceil(ceil)\n",
    "Mutile_block = M+ceil*N\n",
    "t = 0.001\n",
    "\n",
    "print(stupid)\n",
    "print(Single_block)\n",
    "print(Mutile_block)\n",
    "\n",
    "print(stupid*t)\n",
    "print(Single_block*t)\n",
    "print(Mutile_block*t)"
   ]
  }
 ],
 "metadata": {
  "kernelspec": {
   "display_name": "base",
   "language": "python",
   "name": "python3"
  },
  "language_info": {
   "codemirror_mode": {
    "name": "ipython",
    "version": 3
   },
   "file_extension": ".py",
   "mimetype": "text/x-python",
   "name": "python",
   "nbconvert_exporter": "python",
   "pygments_lexer": "ipython3",
   "version": "3.12.3"
  }
 },
 "nbformat": 4,
 "nbformat_minor": 2
}
